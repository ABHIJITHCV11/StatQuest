{
 "cells": [
  {
   "cell_type": "code",
   "execution_count": 1,
   "id": "f617aadb",
   "metadata": {},
   "outputs": [],
   "source": [
    "import pandas as pd\n",
    "import numpy as np\n",
    "import matplotlib.pyplot as plt\n",
    "import seaborn as sns\n",
    "import warnings"
   ]
  },
  {
   "cell_type": "code",
   "execution_count": 2,
   "id": "2f698af4",
   "metadata": {
    "scrolled": true
   },
   "outputs": [
    {
     "data": {
      "text/plain": [
       "array([9, 9, 6, 9, 5, 3, 3, 7, 4, 9])"
      ]
     },
     "execution_count": 2,
     "metadata": {},
     "output_type": "execute_result"
    }
   ],
   "source": [
    "X = np.random.randint(low=0,high=10,size=10)\n",
    "X"
   ]
  },
  {
   "cell_type": "code",
   "execution_count": 3,
   "id": "0110c092",
   "metadata": {},
   "outputs": [
    {
     "data": {
      "text/plain": [
       "array([1, 2, 1, 0, 9, 4, 0, 2, 5, 0])"
      ]
     },
     "execution_count": 3,
     "metadata": {},
     "output_type": "execute_result"
    }
   ],
   "source": [
    "Y =np.random.randint(low=0,high=10,size=10)\n",
    "Y"
   ]
  },
  {
   "cell_type": "code",
   "execution_count": 4,
   "id": "ddeba350",
   "metadata": {},
   "outputs": [],
   "source": [
    "df = pd.DataFrame({'X':X,'Y':Y})"
   ]
  },
  {
   "cell_type": "code",
   "execution_count": 5,
   "id": "92a14b4b",
   "metadata": {},
   "outputs": [
    {
     "data": {
      "text/html": [
       "<div>\n",
       "<style scoped>\n",
       "    .dataframe tbody tr th:only-of-type {\n",
       "        vertical-align: middle;\n",
       "    }\n",
       "\n",
       "    .dataframe tbody tr th {\n",
       "        vertical-align: top;\n",
       "    }\n",
       "\n",
       "    .dataframe thead th {\n",
       "        text-align: right;\n",
       "    }\n",
       "</style>\n",
       "<table border=\"1\" class=\"dataframe\">\n",
       "  <thead>\n",
       "    <tr style=\"text-align: right;\">\n",
       "      <th></th>\n",
       "      <th>X</th>\n",
       "      <th>Y</th>\n",
       "    </tr>\n",
       "  </thead>\n",
       "  <tbody>\n",
       "    <tr>\n",
       "      <th>0</th>\n",
       "      <td>9</td>\n",
       "      <td>1</td>\n",
       "    </tr>\n",
       "    <tr>\n",
       "      <th>1</th>\n",
       "      <td>9</td>\n",
       "      <td>2</td>\n",
       "    </tr>\n",
       "    <tr>\n",
       "      <th>2</th>\n",
       "      <td>6</td>\n",
       "      <td>1</td>\n",
       "    </tr>\n",
       "    <tr>\n",
       "      <th>3</th>\n",
       "      <td>9</td>\n",
       "      <td>0</td>\n",
       "    </tr>\n",
       "    <tr>\n",
       "      <th>4</th>\n",
       "      <td>5</td>\n",
       "      <td>9</td>\n",
       "    </tr>\n",
       "    <tr>\n",
       "      <th>5</th>\n",
       "      <td>3</td>\n",
       "      <td>4</td>\n",
       "    </tr>\n",
       "    <tr>\n",
       "      <th>6</th>\n",
       "      <td>3</td>\n",
       "      <td>0</td>\n",
       "    </tr>\n",
       "    <tr>\n",
       "      <th>7</th>\n",
       "      <td>7</td>\n",
       "      <td>2</td>\n",
       "    </tr>\n",
       "    <tr>\n",
       "      <th>8</th>\n",
       "      <td>4</td>\n",
       "      <td>5</td>\n",
       "    </tr>\n",
       "    <tr>\n",
       "      <th>9</th>\n",
       "      <td>9</td>\n",
       "      <td>0</td>\n",
       "    </tr>\n",
       "  </tbody>\n",
       "</table>\n",
       "</div>"
      ],
      "text/plain": [
       "   X  Y\n",
       "0  9  1\n",
       "1  9  2\n",
       "2  6  1\n",
       "3  9  0\n",
       "4  5  9\n",
       "5  3  4\n",
       "6  3  0\n",
       "7  7  2\n",
       "8  4  5\n",
       "9  9  0"
      ]
     },
     "execution_count": 5,
     "metadata": {},
     "output_type": "execute_result"
    }
   ],
   "source": [
    "df"
   ]
  },
  {
   "cell_type": "code",
   "execution_count": 13,
   "id": "13b201b4",
   "metadata": {
    "scrolled": false
   },
   "outputs": [
    {
     "data": {
      "image/png": "[encoded data removed]",
      "text/plain": [
       "<Figure size 432x288 with 1 Axes>"
      ]
     },
     "metadata": {
      "needs_background": "light"
     },
     "output_type": "display_data"
    }
   ],
   "source": [
    "# Scatter plot for the data\n",
    "plt.scatter(X,Y)\n",
    "plt.xticks(ticks=np.arange(len(X)))\n",
    "plt.yticks(ticks=np.arange(len(Y)))\n",
    "plt.show()"
   ]
  },
  {
   "cell_type": "code",
   "execution_count": 7,
   "id": "3f517096",
   "metadata": {},
   "outputs": [
    {
     "data": {
      "image/png": "[encoded data removed]",
      "text/plain": [
       "<Figure size 432x288 with 1 Axes>"
      ]
     },
     "metadata": {
      "needs_background": "light"
     },
     "output_type": "display_data"
    }
   ],
   "source": [
    "# To see the slope we fit a line through the data\n",
    "sns.regplot(data = df,x='X',y='Y')\n",
    "plt.xticks(ticks=np.arange(11))\n",
    "plt.yticks(ticks=np.arange(11))\n",
    "plt.show()"
   ]
  },
  {
   "cell_type": "code",
   "execution_count": 8,
   "id": "8e3f2e01",
   "metadata": {},
   "outputs": [
    {
     "data": {
      "text/html": [
       "<div>\n",
       "<style scoped>\n",
       "    .dataframe tbody tr th:only-of-type {\n",
       "        vertical-align: middle;\n",
       "    }\n",
       "\n",
       "    .dataframe tbody tr th {\n",
       "        vertical-align: top;\n",
       "    }\n",
       "\n",
       "    .dataframe thead th {\n",
       "        text-align: right;\n",
       "    }\n",
       "</style>\n",
       "<table border=\"1\" class=\"dataframe\">\n",
       "  <thead>\n",
       "    <tr style=\"text-align: right;\">\n",
       "      <th></th>\n",
       "      <th>X</th>\n",
       "      <th>Y</th>\n",
       "      <th>X_mean</th>\n",
       "      <th>Y_mean</th>\n",
       "      <th>X_std</th>\n",
       "      <th>Y_std</th>\n",
       "      <th>X - X_mean</th>\n",
       "      <th>Y - Y_mean</th>\n",
       "      <th>(X-X_mean)(Y - Y_mean)</th>\n",
       "    </tr>\n",
       "  </thead>\n",
       "  <tbody>\n",
       "    <tr>\n",
       "      <th>0</th>\n",
       "      <td>9</td>\n",
       "      <td>1</td>\n",
       "      <td>6.4</td>\n",
       "      <td>2.4</td>\n",
       "      <td>2.416609</td>\n",
       "      <td>2.727636</td>\n",
       "      <td>2.6</td>\n",
       "      <td>-1.4</td>\n",
       "      <td>-3.64</td>\n",
       "    </tr>\n",
       "    <tr>\n",
       "      <th>1</th>\n",
       "      <td>9</td>\n",
       "      <td>2</td>\n",
       "      <td>6.4</td>\n",
       "      <td>2.4</td>\n",
       "      <td>2.416609</td>\n",
       "      <td>2.727636</td>\n",
       "      <td>2.6</td>\n",
       "      <td>-0.4</td>\n",
       "      <td>-1.04</td>\n",
       "    </tr>\n",
       "    <tr>\n",
       "      <th>2</th>\n",
       "      <td>6</td>\n",
       "      <td>1</td>\n",
       "      <td>6.4</td>\n",
       "      <td>2.4</td>\n",
       "      <td>2.416609</td>\n",
       "      <td>2.727636</td>\n",
       "      <td>-0.4</td>\n",
       "      <td>-1.4</td>\n",
       "      <td>0.56</td>\n",
       "    </tr>\n",
       "    <tr>\n",
       "      <th>3</th>\n",
       "      <td>9</td>\n",
       "      <td>0</td>\n",
       "      <td>6.4</td>\n",
       "      <td>2.4</td>\n",
       "      <td>2.416609</td>\n",
       "      <td>2.727636</td>\n",
       "      <td>2.6</td>\n",
       "      <td>-2.4</td>\n",
       "      <td>-6.24</td>\n",
       "    </tr>\n",
       "    <tr>\n",
       "      <th>4</th>\n",
       "      <td>5</td>\n",
       "      <td>9</td>\n",
       "      <td>6.4</td>\n",
       "      <td>2.4</td>\n",
       "      <td>2.416609</td>\n",
       "      <td>2.727636</td>\n",
       "      <td>-1.4</td>\n",
       "      <td>6.6</td>\n",
       "      <td>-9.24</td>\n",
       "    </tr>\n",
       "    <tr>\n",
       "      <th>5</th>\n",
       "      <td>3</td>\n",
       "      <td>4</td>\n",
       "      <td>6.4</td>\n",
       "      <td>2.4</td>\n",
       "      <td>2.416609</td>\n",
       "      <td>2.727636</td>\n",
       "      <td>-3.4</td>\n",
       "      <td>1.6</td>\n",
       "      <td>-5.44</td>\n",
       "    </tr>\n",
       "    <tr>\n",
       "      <th>6</th>\n",
       "      <td>3</td>\n",
       "      <td>0</td>\n",
       "      <td>6.4</td>\n",
       "      <td>2.4</td>\n",
       "      <td>2.416609</td>\n",
       "      <td>2.727636</td>\n",
       "      <td>-3.4</td>\n",
       "      <td>-2.4</td>\n",
       "      <td>8.16</td>\n",
       "    </tr>\n",
       "    <tr>\n",
       "      <th>7</th>\n",
       "      <td>7</td>\n",
       "      <td>2</td>\n",
       "      <td>6.4</td>\n",
       "      <td>2.4</td>\n",
       "      <td>2.416609</td>\n",
       "      <td>2.727636</td>\n",
       "      <td>0.6</td>\n",
       "      <td>-0.4</td>\n",
       "      <td>-0.24</td>\n",
       "    </tr>\n",
       "    <tr>\n",
       "      <th>8</th>\n",
       "      <td>4</td>\n",
       "      <td>5</td>\n",
       "      <td>6.4</td>\n",
       "      <td>2.4</td>\n",
       "      <td>2.416609</td>\n",
       "      <td>2.727636</td>\n",
       "      <td>-2.4</td>\n",
       "      <td>2.6</td>\n",
       "      <td>-6.24</td>\n",
       "    </tr>\n",
       "    <tr>\n",
       "      <th>9</th>\n",
       "      <td>9</td>\n",
       "      <td>0</td>\n",
       "      <td>6.4</td>\n",
       "      <td>2.4</td>\n",
       "      <td>2.416609</td>\n",
       "      <td>2.727636</td>\n",
       "      <td>2.6</td>\n",
       "      <td>-2.4</td>\n",
       "      <td>-6.24</td>\n",
       "    </tr>\n",
       "  </tbody>\n",
       "</table>\n",
       "</div>"
      ],
      "text/plain": [
       "   X  Y  X_mean  Y_mean     X_std     Y_std  X - X_mean  Y - Y_mean  \\\n",
       "0  9  1     6.4     2.4  2.416609  2.727636         2.6        -1.4   \n",
       "1  9  2     6.4     2.4  2.416609  2.727636         2.6        -0.4   \n",
       "2  6  1     6.4     2.4  2.416609  2.727636        -0.4        -1.4   \n",
       "3  9  0     6.4     2.4  2.416609  2.727636         2.6        -2.4   \n",
       "4  5  9     6.4     2.4  2.416609  2.727636        -1.4         6.6   \n",
       "5  3  4     6.4     2.4  2.416609  2.727636        -3.4         1.6   \n",
       "6  3  0     6.4     2.4  2.416609  2.727636        -3.4        -2.4   \n",
       "7  7  2     6.4     2.4  2.416609  2.727636         0.6        -0.4   \n",
       "8  4  5     6.4     2.4  2.416609  2.727636        -2.4         2.6   \n",
       "9  9  0     6.4     2.4  2.416609  2.727636         2.6        -2.4   \n",
       "\n",
       "   (X-X_mean)(Y - Y_mean)  \n",
       "0                   -3.64  \n",
       "1                   -1.04  \n",
       "2                    0.56  \n",
       "3                   -6.24  \n",
       "4                   -9.24  \n",
       "5                   -5.44  \n",
       "6                    8.16  \n",
       "7                   -0.24  \n",
       "8                   -6.24  \n",
       "9                   -6.24  "
      ]
     },
     "execution_count": 8,
     "metadata": {},
     "output_type": "execute_result"
    }
   ],
   "source": [
    "\n",
    "df['X_mean'] = np.full(shape=10,fill_value=X.mean())              # mean of each x\n",
    "df['Y_mean'] = np.full(shape=10,fill_value=Y.mean())              # mean of each x\n",
    "df['X_std']  = X.std()                                            # standard deviation for X column\n",
    "df['Y_std']  = Y.std()                                            # standard deviation for Y column\n",
    "df['X - X_mean'] = df['X']-df['X_mean']                           # stepping stone to calculate covariance\n",
    "df['Y - Y_mean'] = df['Y']-df['Y_mean']                           # stepping stone to calculate covariance\n",
    "df['(X-X_mean)(Y - Y_mean)'] = df['X - X_mean']*df['Y - Y_mean']\n",
    "df"
   ]
  },
  {
   "cell_type": "code",
   "execution_count": 9,
   "id": "3d3f489f",
   "metadata": {},
   "outputs": [
    {
     "data": {
      "text/plain": [
       "-2.96"
      ]
     },
     "execution_count": 9,
     "metadata": {},
     "output_type": "execute_result"
    }
   ],
   "source": [
    "# finding covarience\n",
    "covarience = df['(X-X_mean)(Y - Y_mean)'].sum()/10\n",
    "covarience"
   ]
  },
  {
   "cell_type": "code",
   "execution_count": 10,
   "id": "2352b07c",
   "metadata": {},
   "outputs": [
    {
     "data": {
      "text/plain": [
       "6.591631057636646"
      ]
     },
     "execution_count": 10,
     "metadata": {},
     "output_type": "execute_result"
    }
   ],
   "source": [
    "denominator = ((X.std()) * (Y.std()))\n",
    "denominator"
   ]
  },
  {
   "cell_type": "code",
   "execution_count": 11,
   "id": "689dec80",
   "metadata": {},
   "outputs": [
    {
     "data": {
      "text/plain": [
       "-0.4490542589714167"
      ]
     },
     "execution_count": 11,
     "metadata": {},
     "output_type": "execute_result"
    }
   ],
   "source": [
    "correlation = covarience/((X.std()) * (Y.std()))\n",
    "correlation"
   ]
  },
  {
   "cell_type": "code",
   "execution_count": 12,
   "id": "08b51b64",
   "metadata": {},
   "outputs": [
    {
     "data": {
      "text/html": [
       "<div>\n",
       "<style scoped>\n",
       "    .dataframe tbody tr th:only-of-type {\n",
       "        vertical-align: middle;\n",
       "    }\n",
       "\n",
       "    .dataframe tbody tr th {\n",
       "        vertical-align: top;\n",
       "    }\n",
       "\n",
       "    .dataframe thead th {\n",
       "        text-align: right;\n",
       "    }\n",
       "</style>\n",
       "<table border=\"1\" class=\"dataframe\">\n",
       "  <thead>\n",
       "    <tr style=\"text-align: right;\">\n",
       "      <th></th>\n",
       "      <th>X</th>\n",
       "      <th>Y</th>\n",
       "    </tr>\n",
       "  </thead>\n",
       "  <tbody>\n",
       "    <tr>\n",
       "      <th>X</th>\n",
       "      <td>1.000000</td>\n",
       "      <td>-0.449054</td>\n",
       "    </tr>\n",
       "    <tr>\n",
       "      <th>Y</th>\n",
       "      <td>-0.449054</td>\n",
       "      <td>1.000000</td>\n",
       "    </tr>\n",
       "  </tbody>\n",
       "</table>\n",
       "</div>"
      ],
      "text/plain": [
       "          X         Y\n",
       "X  1.000000 -0.449054\n",
       "Y -0.449054  1.000000"
      ]
     },
     "execution_count": 12,
     "metadata": {},
     "output_type": "execute_result"
    }
   ],
   "source": [
    "df.loc[:,'X':'Y'].corr()"
   ]
  },
  {
   "cell_type": "markdown",
   "id": "ad491a96",
   "metadata": {},
   "source": [
    "#### - Calculated correlation equals function-derived correlation\n",
    "\n"
   ]
  }
 ],
 "metadata": {
  "kernelspec": {
   "display_name": "Python 3 (ipykernel)",
   "language": "python",
   "name": "python3"
  },
  "language_info": {
   "codemirror_mode": {
    "name": "ipython",
    "version": 3
   },
   "file_extension": ".py",
   "mimetype": "text/x-python",
   "name": "python",
   "nbconvert_exporter": "python",
   "pygments_lexer": "ipython3",
   "version": "3.9.7"
  }
 },
 "nbformat": 4,
 "nbformat_minor": 5
}
